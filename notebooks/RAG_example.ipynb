{
 "cells": [
  {
   "cell_type": "code",
   "execution_count": 1,
   "id": "b0345c42-ab7e-4efd-9c1d-a956e7a1b669",
   "metadata": {},
   "outputs": [],
   "source": [
    "!pip install -qU pandas langchain tiktoken matplotlib seaborn chromadb voyageai"
   ]
  },
  {
   "cell_type": "code",
   "execution_count": 5,
   "id": "0984aeea-5804-46b3-9ea6-46e9d11a0b2f",
   "metadata": {},
   "outputs": [],
   "source": [
    "import os\n",
    "import pandas as pd"
   ]
  },
  {
   "cell_type": "markdown",
   "id": "a7780ee4-8331-4fd0-8e26-81449cad3efd",
   "metadata": {},
   "source": [
    "### Loading news jsons and parsing out the ids, titles, texts"
   ]
  },
  {
   "cell_type": "code",
   "execution_count": 14,
   "id": "b705d546-39c2-4f8a-a6e9-3c600e567a2e",
   "metadata": {},
   "outputs": [],
   "source": [
    "df = pd.read_csv('calls.csv')"
   ]
  },
  {
   "cell_type": "code",
   "execution_count": 41,
   "id": "afd24add-fab4-45e6-809e-6c51188437be",
   "metadata": {},
   "outputs": [],
   "source": [
    "files = os.listdir('./news/2018_01_11')\n",
    "titles = []\n",
    "texts = []\n",
    "ids = []\n",
    "for file in files:\n",
    "    with open('news/2018_01_11/{}'.format(file), 'r') as f:\n",
    "            data = json.load(f)   \n",
    "    ids.append(data['uuid'])\n",
    "    titles.append(data['title'])\n",
    "    texts.append(data['text'])"
   ]
  },
  {
   "cell_type": "markdown",
   "id": "d3adecdf-6f8e-4e18-9d11-054ceefeb937",
   "metadata": {},
   "source": [
    "### Loading OpenAI tokenizer, visualizing the token lengths for the docs"
   ]
  },
  {
   "cell_type": "code",
   "execution_count": null,
   "id": "ca6e3c4c-27a9-4f48-b0ec-1ce873c9a014",
   "metadata": {},
   "outputs": [],
   "source": [
    "import tiktoken\n",
    "tokenizer = tiktoken.get_encoding('cl100k_base')\n",
    "\n",
    "# create the length function\n",
    "def tiktoken_len(text):\n",
    "    tokens = tokenizer.encode(\n",
    "        text,\n",
    "        disallowed_special=()\n",
    "    )\n",
    "    return len(tokens)"
   ]
  },
  {
   "cell_type": "code",
   "execution_count": 118,
   "id": "d5e91023-048e-4adf-85f7-e1b0b9a8a9b6",
   "metadata": {},
   "outputs": [
    {
     "name": "stdout",
     "output_type": "stream",
     "text": [
      "avg token length per doc: 505.5772118611813\n"
     ]
    }
   ],
   "source": [
    "doc_tokens_lens = [tiktoken_len(text) for text in texts]\n",
    "print('avg token length per doc: {}'.format(sum(doc_tokens_lens)/len(texts)))"
   ]
  },
  {
   "cell_type": "code",
   "execution_count": 65,
   "id": "78d4d307-db53-45b1-8fac-9142f29a3dd7",
   "metadata": {},
   "outputs": [],
   "source": [
    "import matplotlib.pyplot as plt\n",
    "import seaborn as sns"
   ]
  },
  {
   "cell_type": "code",
   "execution_count": 71,
   "id": "a0ab5733-60aa-4d53-bc85-3c001eb6842b",
   "metadata": {
    "scrolled": true
   },
   "outputs": [
    {
     "data": {
      "text/plain": [
       "<Axes: ylabel='Count'>"
      ]
     },
     "execution_count": 71,
     "metadata": {},
     "output_type": "execute_result"
    },
    {
     "data": {
      "image/png": "[encoded data removed]",
      "text/plain": [
       "<Figure size 1200x600 with 1 Axes>"
      ]
     },
     "metadata": {},
     "output_type": "display_data"
    }
   ],
   "source": [
    "plt.figure(figsize = (12,6))\n",
    "sns.histplot(doc_tokens_lens,kde = False, bins = 50,binrange = (0,5000))"
   ]
  },
  {
   "cell_type": "markdown",
   "id": "07ced818-f7a1-4d1c-8b99-b503aa0d2edb",
   "metadata": {},
   "source": [
    "### Customize the voyage AI Embedding Function classand create the vector DB with it"
   ]
  },
  {
   "cell_type": "code",
   "execution_count": 236,
   "id": "3b3c495e-e083-413a-9fd7-6b915cc8d265",
   "metadata": {},
   "outputs": [],
   "source": [
    "import chromadb\n",
    "from chromadb import Documents, EmbeddingFunction, Embeddings, Collection\n",
    "class voyageai_ef(EmbeddingFunction):\n",
    "    def __init__(self, api_key:str, model_name: str = 'voyage-large-2-instruct', batch_size: int = 100):\n",
    "        \"\"\"\n",
    "        Initialize the VoyageAI EmbeddingFunction\n",
    "        api_key: API key for the voyage API\n",
    "        model_name: name of the embedding model\n",
    "        \"\"\"\n",
    "\n",
    "        if not api_key:\n",
    "            raise ValueError('Need an api key')\n",
    "\n",
    "        try:\n",
    "            import voyageai \n",
    "            from voyageai import get_embeddings\n",
    "\n",
    "        except ImportError:\n",
    "            raise ValueError('Need to install voyage ai python package')\n",
    "\n",
    "        voyageai.api_key = api_key\n",
    "        self.model = model_name\n",
    "        self.batch_size = batch_size\n",
    "        self.get_embeddings = get_embeddings        \n",
    "\n",
    "    def __call__(self, texts: Documents) -> Embeddings:\n",
    "        # embed the documents somehow\n",
    "        batch_size = self.batch_size\n",
    "        embeds = []\n",
    "        for i in range(0, len(texts), batch_size):\n",
    "            embeds.extend(self.get_embeddings(list_of_text = texts[i:i+batch_size], batch_size = batch_size, model = self.model))\n",
    "        return embeds"
   ]
  },
  {
   "cell_type": "code",
   "execution_count": null,
   "id": "9063ccd0-5ebf-4cb1-a97a-8f0cfbeefb2c",
   "metadata": {},
   "outputs": [],
   "source": [
    "+ '_' + doc.metadata['id']"
   ]
  },
  {
   "cell_type": "code",
   "execution_count": 282,
   "id": "43ebdcde-f11b-41a2-8ded-252a46d39326",
   "metadata": {},
   "outputs": [],
   "source": [
    "from typing import List\n",
    "\n",
    "def split_text(titles: List[str], texts: List[str], ids: List[str]):\n",
    "    docs = [titles[i] + texts[i] for i in range(len(texts))]\n",
    "    documents = text_splitter.create_documents(docs,metadatas = [{'id' : id} for id in ids])\n",
    "    return documents\n",
    "def add_docs(docs:Documents, vector_db: Collection, batch_size: int = 200):\n",
    "    for i in range(0, len(docs), batch_size):\n",
    "        try:\n",
    "            documents = docs[i:i+batch_size]\n",
    "            collection.add(\n",
    "                documents = [doc.page_content for doc in documents],\n",
    "                #metadatas=[{\"source\": \"kaggle\"}],\n",
    "                ids = [str(j) for j, doc in enumerate(documents)] # unique for each doc\n",
    "            )\n",
    "        except Exception as e:\n",
    "            print(f'Failed vector insertion for {i,i+batch}th docs')\n",
    "            print(e)\n",
    "            \n",
    "from langchain_text_splitters import RecursiveCharacterTextSplitter\n",
    "text_splitter = RecursiveCharacterTextSplitter(\n",
    "    chunk_size=1000, # Size of each chunk in characters\n",
    "    chunk_overlap=100,\n",
    "    length_function=len,\n",
    "    separators=[\"\\n\\n\", \"\\n\", \" \", \".\", \"\"])"
   ]
  },
  {
   "cell_type": "code",
   "execution_count": 287,
   "id": "cfb87149-bd7b-4ec5-85e8-dc1192918068",
   "metadata": {},
   "outputs": [],
   "source": [
    "client.delete_collection(\"news-articles\")"
   ]
  },
  {
   "cell_type": "code",
   "execution_count": 288,
   "id": "bd1f68b2-fcb6-4521-8a6c-914a1296cc93",
   "metadata": {},
   "outputs": [],
   "source": [
    "api_key = \"pa-y7suWFyb3w9NgW22Riey_qbkxDqBV9kzLmclvA4EV1M\"\n",
    "EF = voyageai_ef(api_key = api_key)\n",
    "\n",
    "collection = client.create_collection(\"news-articles\",embedding_function=EF)"
   ]
  },
  {
   "cell_type": "code",
   "execution_count": 228,
   "id": "1e28b671-c644-4af2-9498-06f7a7703d56",
   "metadata": {},
   "outputs": [
    {
     "name": "stdout",
     "output_type": "stream",
     "text": [
      "Splitted 57802 documents into 185879 chunks.\n"
     ]
    }
   ],
   "source": [
    "documents = split_text(titles,texts,ids)\n",
    "print(f\"Splitted {len(texts)} documents into {len(documents)} chunks.\")"
   ]
  },
  {
   "cell_type": "code",
   "execution_count": 289,
   "id": "f90b3628-d39b-4c04-bbed-0084707a40f3",
   "metadata": {},
   "outputs": [],
   "source": [
    "add_docs(documents[:200],collection)"
   ]
  },
  {
   "cell_type": "code",
   "execution_count": 298,
   "id": "f96094c0-0704-4fbc-8521-cb4ab4fd87c2",
   "metadata": {},
   "outputs": [
    {
     "data": {
      "text/plain": [
       "{'ids': [[]],\n",
       " 'distances': [[]],\n",
       " 'metadatas': [[]],\n",
       " 'embeddings': None,\n",
       " 'documents': [[]],\n",
       " 'uris': None,\n",
       " 'data': None}"
      ]
     },
     "execution_count": 298,
     "metadata": {},
     "output_type": "execute_result"
    }
   ],
   "source": [
    "collection.query(query_texts = [\"Tell me a bit about Argentina Merval stock index\"]\n",
    "                 #, n_results = 5\n",
    "                 , where={'ids': '0'}\n",
    "                 #where = \n",
    "                )"
   ]
  },
  {
   "cell_type": "code",
   "execution_count": 299,
   "id": "b413e0b2-c445-4a69-8353-2b86ae03e7e9",
   "metadata": {},
   "outputs": [
    {
     "name": "stderr",
     "output_type": "stream",
     "text": [
      "huggingface/tokenizers: The current process just got forked, after parallelism has already been used. Disabling parallelism to avoid deadlocks...\n",
      "To disable this warning, you can either:\n",
      "\t- Avoid using `tokenizers` before the fork if possible\n",
      "\t- Explicitly set the environment variable TOKENIZERS_PARALLELISM=(true | false)\n"
     ]
    },
    {
     "name": "stdout",
     "output_type": "stream",
     "text": [
      "Collecting torch\n",
      "  Downloading torch-2.2.2-cp39-none-macosx_10_9_x86_64.whl.metadata (25 kB)\n",
      "Requirement already satisfied: filelock in /Users/yuliu/miniconda3/envs/rag/lib/python3.9/site-packages (from torch) (3.14.0)\n",
      "Requirement already satisfied: typing-extensions>=4.8.0 in /Users/yuliu/miniconda3/envs/rag/lib/python3.9/site-packages (from torch) (4.9.0)\n",
      "Requirement already satisfied: sympy in /Users/yuliu/miniconda3/envs/rag/lib/python3.9/site-packages (from torch) (1.12)\n",
      "Collecting networkx (from torch)\n",
      "  Downloading networkx-3.2.1-py3-none-any.whl.metadata (5.2 kB)\n",
      "Requirement already satisfied: jinja2 in /Users/yuliu/miniconda3/envs/rag/lib/python3.9/site-packages (from torch) (3.1.3)\n",
      "Requirement already satisfied: fsspec in /Users/yuliu/miniconda3/envs/rag/lib/python3.9/site-packages (from torch) (2024.3.1)\n",
      "Requirement already satisfied: MarkupSafe>=2.0 in /Users/yuliu/miniconda3/envs/rag/lib/python3.9/site-packages (from jinja2->torch) (2.1.3)\n",
      "Requirement already satisfied: mpmath>=0.19 in /Users/yuliu/miniconda3/envs/rag/lib/python3.9/site-packages (from sympy->torch) (1.3.0)\n",
      "Downloading torch-2.2.2-cp39-none-macosx_10_9_x86_64.whl (150.8 MB)\n",
      "\u001b[2K   \u001b[90m━━━━━━━━━━━━━━━━━━━━━━━━━━━━━━━━━━━━━━━━\u001b[0m \u001b[32m150.8/150.8 MB\u001b[0m \u001b[31m9.4 MB/s\u001b[0m eta \u001b[36m0:00:00\u001b[0m:00:01\u001b[0m00:01\u001b[0m\n",
      "\u001b[?25hDownloading networkx-3.2.1-py3-none-any.whl (1.6 MB)\n",
      "\u001b[2K   \u001b[90m━━━━━━━━━━━━━━━━━━━━━━━━━━━━━━━━━━━━━━━━\u001b[0m \u001b[32m1.6/1.6 MB\u001b[0m \u001b[31m15.3 MB/s\u001b[0m eta \u001b[36m0:00:00\u001b[0m00:01\u001b[0m00:01\u001b[0m\n",
      "\u001b[?25hInstalling collected packages: networkx, torch\n",
      "Successfully installed networkx-3.2.1 torch-2.2.2\n"
     ]
    }
   ],
   "source": [
    "!pip install torch"
   ]
  },
  {
   "cell_type": "code",
   "execution_count": 292,
   "id": "b67f11c9-4975-4915-8036-fdf77ccf77bc",
   "metadata": {},
   "outputs": [
    {
     "data": {
      "text/plain": [
       "{'ids': [['2', '0', '1', '117', '32']],\n",
       " 'distances': [[0.6230589747428894,\n",
       "   0.7650056481361389,\n",
       "   0.7671399116516113,\n",
       "   0.8904033899307251,\n",
       "   0.8977068066596985]],\n",
       " 'metadatas': [[None, None, None, None, None]],\n",
       " 'embeddings': None,\n",
       " 'documents': [[\"American equities rally to start the year that has MSCI's gauge of the region's stocks set for its largest January gains since 2006. The Merval closed up 0.55 percent at 35,141.72 points. Key Latin American stock indexes and currencies at 2145 GMT: Stock indexes Latest Daily YTD pct pct change change MSCI Emerging Markets 1,263.45 0.37 9.06 MSCI LatAm 3,201.95 1.01 13.22 Mexico IPC 50,777.90 0.27 3.09 Chile IPSA 5,811.54 0.23 4.44 Chile IGPA 29,216.54 0.23 4.42 Argentina Merval 35,141.72 0.55 16.88 Colombia IGBC 12,307.20 -0.06 8.24 Currencies Latest Daily YTD pct pct change change Brazil real 3.1470 0.35 5.28 Mexico peso 18.6100 -0.57 5.85 Chile peso 598.60 0.7 2.68 Colombia peso 2,790 0.84 6.88 Peru sol 3.210 0.09 0.84 Argentina peso (interbank) 19.56 0.38 -4.91 Argentina peso (parallel) 19.91 0.35 -3.42 (Reporting by Rodrigo Campos; Editing by Bernadette Baum and Chris Reese)\",\n",
       "   'EMERGING MARKETS-Mexican peso seesaws over dollar; Argentina stocks hit record(Updates prices, adds Trump comments) By Rodrigo Campos NEW YORK, Jan 25 (Reuters) - Mexico\\'s peso seesawed against the dollar on Thursday as U.S. officials sent mixed signals on the greenback, while Argentina\\'s Merval stock index broke the 35,000-point mark for the first time. Several emerging currencies hit multi-year highs against the greenback, with the dollar index languishing at more than three-year lows after U.S. Treasury Secretary Steven Mnuchin departed from traditional U.S. currency policy, saying \"obviously a weaker dollar is good for us.\" The Mexican peso appreciated by more than 1 percent to 18.3025 earlier in the day before U.S. President Donald Trump said Mnuchin had been misinterpreted and that he ultimately wanted the dollar to be strong. Trump\\'s comments helped the dollar to pare losses against major currencies, and the Mexican peso reversed its gains, closing down almost 0.6 percent',\n",
       "   \"against major currencies, and the Mexican peso reversed its gains, closing down almost 0.6 percent against the greenback. Elsewhere, Colombia's peso added to Wednesday's 1.48 percent gain against the dollar to reach its strongest level since July 2015, while the Chilean peso closed under 600 per dollar for the first time since May 2015. Brazilian markets were closed for the Sao Paulo anniversary holiday but are expected to soon extend a rally that boosted the benchmark Bovespa stock index to an all-time high above 83,000 points on Wednesday. That advance came after an appeals court upheld a corruption conviction of former President Luiz Inacio Lula da Silva. Although the conviction could derail his plans to run again for the presidency, Lula, who is leading opinion polls for the October election, said on Thursday he would appeal the decision. Brazilian and Argentine shares have led a Latin American equities rally to start the year that has MSCI's gauge of the region's stocks set for\",\n",
       "   '“Safe Harbor” Statement under the Private Securities Litigation Reform Act of 1995. Any forward-looking statements contained herein, including those relating to market conditions or the Company’s financial results, costs, expenses or expense reductions, profit margins, inventory levels, foreign currency translation rates, liquidity expectations, business goals and sales growth, involve risks and uncertainties, including but not limited to, risks and uncertainties with respect to general economic and currency conditions, various conditions specific to the Company’s business and industry, weather conditions, new housing starts, market demand, competitive factors, changes in distribution channels, supply constraints, effect of price increases, raw material costs, technology factors, integration of acquisitions, litigation, government and regulatory actions, the Company’s accounting policies, future trends, and other risks which are detailed in the Company’s Securities and Exchange',\n",
       "   \"Hedge fund industry's stars are stumbling as stock picks and proxy fights fizzle14 Mins Ago | 02:03 \\nIt's not easy being famous. \\nAt least that was the case in 2017, when some of Wall Street's brand-name hedge-fund activists underperformed not only their peers but the rest of the hedge-fund industry and the market as a whole. \\nBill Ackman's Pershing Square comes to mind, posting losses of 4 percent last year, the third consecutive negative year. But there's also David Einhorn's Greenlight Capital, up about 1.6 percent and Nelson Peltz's Trian Fund Management, up 3.7 percent, to name a few. \\nThat compares with a 19.4 percent jump in the S&P 500 , an 8.5 percent gain in HFR's weighted composite index of hedge-fund returns, and a 4 percent gain in HFR's index of activist investors.\"]],\n",
       " 'uris': None,\n",
       " 'data': None}"
      ]
     },
     "execution_count": 292,
     "metadata": {},
     "output_type": "execute_result"
    }
   ],
   "source": [
    "collection.query(query_texts = [\"Tell me a bit about Argentina Merval stock index\"], n_results = 5\n",
    "                 #, where={'id': '2_4f2fec4a4d32d0f564e5da74188b51e5317e4826'}\n",
    "                )"
   ]
  },
  {
   "cell_type": "code",
   "execution_count": 268,
   "id": "6c72f460-3c5c-446b-8fa5-18a03ca42157",
   "metadata": {},
   "outputs": [
    {
     "data": {
      "text/plain": [
       "UUID('4bc66d2a-f2bc-4417-86a0-a5231c53cc24')"
      ]
     },
     "execution_count": 268,
     "metadata": {},
     "output_type": "execute_result"
    }
   ],
   "source": [
    "collection."
   ]
  },
  {
   "cell_type": "code",
   "execution_count": 261,
   "id": "6ff57eef-3324-4257-913d-208be290f605",
   "metadata": {},
   "outputs": [
    {
     "data": {
      "text/plain": [
       "{'ids': [['2_4f2fec4a4d32d0f564e5da74188b51e5317e4826',\n",
       "   '108_c18708491d5b9d6f4e0ad906824792bc18581f6c',\n",
       "   '118_c18708491d5b9d6f4e0ad906824792bc18581f6c',\n",
       "   '10_90c0db26f08bccf689b1970bfa5666dbcbbf5036',\n",
       "   '20_90c0db26f08bccf689b1970bfa5666dbcbbf5036']],\n",
       " 'distances': [[0.8524609804153442,\n",
       "   0.873660147190094,\n",
       "   0.873660147190094,\n",
       "   0.8924012184143066,\n",
       "   0.8925893306732178]],\n",
       " 'metadatas': [[None, None, None, None, None]],\n",
       " 'embeddings': None,\n",
       " 'documents': [[\"American equities rally to start the year that has MSCI's gauge of the region's stocks set for its largest January gains since 2006. The Merval closed up 0.55 percent at 35,141.72 points. Key Latin American stock indexes and currencies at 2145 GMT: Stock indexes Latest Daily YTD pct pct change change MSCI Emerging Markets 1,263.45 0.37 9.06 MSCI LatAm 3,201.95 1.01 13.22 Mexico IPC 50,777.90 0.27 3.09 Chile IPSA 5,811.54 0.23 4.44 Chile IGPA 29,216.54 0.23 4.42 Argentina Merval 35,141.72 0.55 16.88 Colombia IGBC 12,307.20 -0.06 8.24 Currencies Latest Daily YTD pct pct change change Brazil real 3.1470 0.35 5.28 Mexico peso 18.6100 -0.57 5.85 Chile peso 598.60 0.7 2.68 Colombia peso 2,790 0.84 6.88 Peru sol 3.210 0.09 0.84 Argentina peso (interbank) 19.56 0.38 -4.91 Argentina peso (parallel) 19.91 0.35 -3.42 (Reporting by Rodrigo Campos; Editing by Bernadette Baum and Chris Reese)\",\n",
       "   'future trends, and other risks which are detailed in the Company’s Securities and Exchange Commission filings, included in Item 1A of Part I of the Company’s Annual Report on Form 10-K for the fiscal year ending December 31, 2016, Exhibit 99.1 attached thereto and in Item 1A of Part II of the Company’s Quarterly Reports on Form 10-Q. These risks and uncertainties may cause actual results to differ materially from those indicated by the forward-looking statements. All forward-looking statements made herein are based on information currently available, and the Company assumes no obligation to update any forward-looking statement',\n",
       "   'future trends, and other risks which are detailed in the Company’s Securities and Exchange Commission filings, included in Item 1A of Part I of the Company’s Annual Report on Form 10-K for the fiscal year ending December 31, 2016, Exhibit 99.1 attached thereto and in Item 1A of Part II of the Company’s Quarterly Reports on Form 10-Q. These risks and uncertainties may cause actual results to differ materially from those indicated by the forward-looking statements. All forward-looking statements made herein are based on information currently available, and the Company assumes no obligation to update any forward-looking statement',\n",
       "   'This release may be deemed to contain certain forward-looking statements within the meaning of the Private Securities Litigation Reform Act of 1995. These forward-looking statements include, without limitation, statements we make regarding plans to introduce new products and the opportunities that may result from such new products. Forward-looking statements generally can be identified by the use of forward-looking terminology such as “plan”, “believe,” “expect,” “anticipate,” “may,” “will,” “intend,” “estimate,” “offers,” or similar expressions or the negative of those terms or expressions, although not all forward-looking statements contain these words. Such statements involve risks and uncertainties, which could cause actual results to vary materially from those expressed in or indicated by the forward-looking statements. These risks and uncertainties include our ability to develop and market new or improved products, our ability to compete effectively, international legal and',\n",
       "   'This release may be deemed to contain certain forward-looking statements within the meaning of the Private Securities Litigation Reform Act of 1995. These forward-looking statements include, without limitation, statements we make regarding plans to introduce new products and the opportunities that may result from such new products. Forward-looking statements generally can be identified by the use of forward-looking terminology such as “plan”, “believe,” “expect,” “anticipate,” “may,” “will,” “intend,” “estimate,” “offers,” or similar expressions or the negative of those terms or expressions, although not all forward-looking statements contain these words. Such statements involve risks and uncertainties, which could cause actual results to vary materially from those expressed in or indicated by the forward-looking statements. These risks and uncertainties include our ability to develop and market new or improved products, our ability to compete effectively, international legal and']],\n",
       " 'uris': None,\n",
       " 'data': None}"
      ]
     },
     "execution_count": 261,
     "metadata": {},
     "output_type": "execute_result"
    }
   ],
   "source": [
    "res"
   ]
  },
  {
   "cell_type": "code",
   "execution_count": null,
   "id": "5200be2a-b1b8-4bf9-a157-04ff02b88c4c",
   "metadata": {},
   "outputs": [],
   "source": []
  },
  {
   "cell_type": "code",
   "execution_count": null,
   "id": "ea1554ee-cf0c-4f7e-b596-73253137d742",
   "metadata": {},
   "outputs": [],
   "source": []
  },
  {
   "cell_type": "code",
   "execution_count": null,
   "id": "297c6552-f9dd-4b0c-af82-ab0fa3c9606c",
   "metadata": {},
   "outputs": [],
   "source": [
    "def save_to_chroma(chunks: list[Document]):\n",
    "  \"\"\"\n",
    "  Save the given list of Document objects to a Chroma database.\n",
    "  Args:\n",
    "  chunks (list[Document]): List of Document objects representing text chunks to save.\n",
    "  Returns:\n",
    "  None\n",
    "  \"\"\"\n",
    "\n",
    "  # Clear out the existing database directory if it exists\n",
    "  if os.path.exists(CHROMA_PATH):\n",
    "    shutil.rmtree(CHROMA_PATH)\n",
    "\n",
    "  # Create a new Chroma database from the documents using OpenAI embeddings\n",
    "  db = Chroma.from_documents(\n",
    "    chunks,\n",
    "    OpenAIEmbeddings(),\n",
    "    persist_directory=CHROMA_PATH\n",
    "  )\n",
    "\n",
    "  # Persist the database to disk\n",
    "  db.persist()\n",
    "  print(f\"Saved {len(chunks)} chunks to {CHROMA_PATH}.\")"
   ]
  }
 ],
 "metadata": {
  "kernelspec": {
   "display_name": "Python (rag)",
   "language": "python",
   "name": "rag"
  },
  "language_info": {
   "codemirror_mode": {
    "name": "ipython",
    "version": 3
   },
   "file_extension": ".py",
   "mimetype": "text/x-python",
   "name": "python",
   "nbconvert_exporter": "python",
   "pygments_lexer": "ipython3",
   "version": "3.9.19"
  }
 },
 "nbformat": 4,
 "nbformat_minor": 5
}
